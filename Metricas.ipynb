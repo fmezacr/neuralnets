{
 "cells": [
  {
   "cell_type": "markdown",
   "metadata": {},
   "source": [
    "# <span style=\"color:red\">MMP-6122 Reconocimiento de Patrones</span>\n",
    "\n",
    "- ### Investigacion Corta 3\n",
    "- ### Esteban Rivera\n",
    "- ### Kevin Viquez"
   ]
  },
  {
   "cell_type": "markdown",
   "metadata": {},
   "source": [
    "![Demo](HorizontalRule.png \"Demo\")"
   ]
  },
  {
   "cell_type": "markdown",
   "metadata": {},
   "source": [
    "## <span style=\"color:red\">Bibliography</span>\n",
    "\n",
    "- Zheng, Alice. *Evaluating Machine Learning Models*. O'Reilly Media,Inc.\n",
    "- https://scikit-learn.org (API Reference)\n",
    "- https://towardsdatascience.com/metrics-to-evaluate-your-machine-learning-algorithm-f10ba6e38234\n",
    "- https://medium.com/thalus-ai/performance-metrics-for-classification-problems-in-machine-learning-part-i-b085d432082b\n",
    "- https://www.machinelearningplus.com/machine-learning/evaluation-metrics-classification-models-r/\n",
    "- https://machinelearningmastery.com/roc-curves-and-precision-recall-curves-for-classification-in-python/"
   ]
  },
  {
   "cell_type": "markdown",
   "metadata": {},
   "source": [
    "![Demo](HorizontalRule.png \"Demo\")"
   ]
  },
  {
   "cell_type": "markdown",
   "metadata": {},
   "source": [
    "# <span style=\"color:red\">Metricas de Clasificacion</span>\n",
    "\n",
    "- Accuracy\n",
    "- Confusion Matrix\n",
    "- Precision\n",
    "- Recall\n",
    "- F1 Score\n",
    "- ROC (Receiver Operating Curve)\n",
    "- ROC AUC (Area Under Curve)\n",
    "- Per-Class Precision\n",
    "- Logarithmic Loss\n",
    "- Brier Score\n",
    "- Jaccard Index\n",
    "\n",
    "# <span style=\"color:red\">Metricas de Regresion</span>\n",
    "\n",
    "- Max Error\n",
    "- MAE (Mean Absolute Error)\n",
    "- MSE (Mean Squared Error)\n",
    "- RMSE (Root Mean Square Error)\n",
    "- R Squared\n"
   ]
  },
  {
   "cell_type": "markdown",
   "metadata": {},
   "source": [
    "![Demo](HorizontalRule.png \"Demo\")"
   ]
  },
  {
   "cell_type": "markdown",
   "metadata": {},
   "source": [
    "# <span style=\"color:red\">Accuracy</span>\n",
    "\n",
    "## En que consiste\n",
    "\n",
    "La metrica de Accuracy mide que tan seguido el clasificador realiza una prediccion correcta. Es el radio entre el numero de predicciones correctas y el numero total de predicciones.\n",
    "\n",
    "\\begin{equation*}\n",
    "Accuracy = \\frac{Numero Predicciones Correctas}{Numero Predicciones Total}\n",
    "\\end{equation*}\n",
    "\n",
    "## Casos de uso\n",
    "\n",
    "- Proposito general en problemas de clasificacion\n",
    "- Cuando las variables en los sets de datos son balanceadas.\n",
    "\n",
    "## Ventajas\n",
    "\n",
    "La mas simple de las metricas de evaluacion.\n",
    "\n",
    "## Desafios\n",
    "\n",
    "Dependiendo del set de datos utilizado para el entrenamiento, si este no es balanceado, puede dar falsos indices de precision.\n",
    "\n",
    "No realiza distincion entre clases, las respuestas correctas para una clase o para otra clase son tratadas como iguales sin dar informacion sobre los fallos.\n",
    "\n",
    "\n",
    "## Ejemplo"
   ]
  },
  {
   "cell_type": "code",
   "execution_count": 1,
   "metadata": {},
   "outputs": [],
   "source": [
    "# Import metrics library\n",
    "from sklearn.metrics import accuracy_score\n",
    "\n",
    "# Imagine 2 vectors, one for the classifier prediction and one with expected values\n",
    "#              o  o  x  o  o  o  x  x  x  o\n",
    "y_predicted = [0, 1, 1, 3, 2, 3, 4, 1, 2, 5]\n",
    "y_expected  = [0, 1, 2, 3, 2, 3, 1, 4, 1, 5]"
   ]
  },
  {
   "cell_type": "markdown",
   "metadata": {},
   "source": [
    "\\begin{equation*}\n",
    "Accuracy = \\frac{6}{10} = 0.6\n",
    "\\end{equation*}"
   ]
  },
  {
   "cell_type": "code",
   "execution_count": 2,
   "metadata": {},
   "outputs": [
    {
     "data": {
      "text/plain": [
       "0.6"
      ]
     },
     "execution_count": 2,
     "metadata": {},
     "output_type": "execute_result"
    }
   ],
   "source": [
    "accuracy_score(y_expected, y_predicted)"
   ]
  },
  {
   "cell_type": "markdown",
   "metadata": {},
   "source": [
    "![Demo](HorizontalRule.png \"Demo\")"
   ]
  },
  {
   "cell_type": "markdown",
   "metadata": {},
   "source": [
    "# <span style=\"color:red\">Confusion Matrix</span>\n",
    "\n",
    "## En que consiste\n",
    "\n",
    "Como su nombre lo indica esta metrica crea una matrix como salida y describe el desempeño completo del modelo. No solo muestra los aciertos y desaciertos en las predicciones sino que nos indica en que clases y con que frecuencia.    \n",
    "\n",
    "![CFM](ConfusionMatrix.png \"CFM\")\n",
    "\n",
    "### <span style=\"color:blue\">Accuracy</span>\n",
    "La precision del modelo se puede calcular:\n",
    "\n",
    "![CFM](ConfusionMatrixModelAcc.png \"CFM\")\n",
    "\n",
    "\\begin{equation*}\n",
    "Accuracy = \\frac{True Positives + True Negatives }{True Positive + True Negative + False Positive + False Negative}\n",
    "\\end{equation*}\n",
    "\n",
    "### <span style=\"color:blue\">Precision</span>\n",
    "La precision de cada clase se puede calcular:\n",
    "\n",
    "![CFM](ConfusionMatrixClassAcc.png \"CFM\")\n",
    "\n",
    "\\begin{equation*}\n",
    "Precision = \\frac{True Positives}{True Positive + False Positive}\n",
    "\\end{equation*}\n",
    "\n",
    "### <span style=\"color:blue\">Tasa de Verdaderos Positivos (A.K.A Sensibilidad o Recall)</span>\n",
    "\n",
    "Corresponde a la proporcion de verdaderos positivos predichos con respecto a todos los positivos que hubo, incluyendo los que se fallo en predecir.\n",
    "\n",
    "![Demo](ConfusionMatrixSensibility.png \"Demo\")\n",
    "\n",
    "\\begin{equation*}\n",
    "TruePositiveRate = \\frac{TruePositives}{FalseNegatives + TruePositives}\n",
    "\\end{equation*}\n",
    "\n",
    "Sensibilidad cuantifica el porcentaje de evacion de falsos negativos. Si la sensibilidad aumenta, la especificidad disminuye.\n",
    "\n",
    "### <span style=\"color:blue\">Tasa de Verdaderos Falsos (A.K.A Especificidad)</span>\n",
    "\n",
    "Corresponde a la proporcion de verdaderos negativos predichos con respecto a todos los negativos que hubo, incluyendo los que se fallo en predecir.\n",
    "\n",
    "![Demo](ConfusionMatrixSpecificity.png \"Demo\")\n",
    "\n",
    "\\begin{equation*}\n",
    "TrueNegativeRate = \\frac{TrueNegatives}{FalsePositives + TrueNegatives}\n",
    "\\end{equation*}\n",
    "\n",
    "Especificidad cuantifica el porcentaje de evacion de falsos positivos. Si la especificidad aumenta, la sensibilidad disminuye.\n",
    "\n",
    "## Casos de uso\n",
    "\n",
    "- Clasificacion binaria\n",
    "- Clasificacion multi-clase\n",
    "- Clasificacion multi-etiqueta\n",
    "\n",
    "## Ventajas\n",
    "\n",
    "Muestra el desempeño completo del modelo y permite entender en donde estan las fallas y los aciertos.\n",
    "\n",
    "## Desafios\n",
    "\n",
    "Sacar provecho de sus resultados requiere de interpretacion y analisis adicional por parte del usuario\n",
    "\n",
    "## Ejemplo Confusion Matrix"
   ]
  },
  {
   "cell_type": "code",
   "execution_count": 3,
   "metadata": {},
   "outputs": [
    {
     "name": "stdout",
     "output_type": "stream",
     "text": [
      "[[2 0 0]\n",
      " [0 0 1]\n",
      " [1 0 2]]\n"
     ]
    }
   ],
   "source": [
    "# Import library\n",
    "from sklearn.metrics import confusion_matrix\n",
    "\n",
    "y_expected  = [\"cat\", \"ant\", \"cat\", \"cat\", \"ant\", \"bird\"]\n",
    "y_predicted = [\"ant\", \"ant\", \"cat\", \"cat\", \"ant\", \"cat\"]\n",
    "\n",
    "confusionMatrixResult = confusion_matrix(y_expected, y_predicted, labels=[\"ant\", \"bird\", \"cat\"])\n",
    "\n",
    "print (confusionMatrixResult)"
   ]
  },
  {
   "cell_type": "markdown",
   "metadata": {},
   "source": [
    "![CFM](ConfusionMatrixExample.png \"CFM\")\n",
    "\n",
    "La precision del modelo se puede calcular usando la diagonal:\n",
    "\n",
    "\\begin{equation*}\n",
    "ModelAccuracy = \\frac{2 (ants) + 0 (birds) + 2 (cats)}{6} = 0.666\n",
    "\\end{equation*}"
   ]
  },
  {
   "cell_type": "code",
   "execution_count": 4,
   "metadata": {},
   "outputs": [
    {
     "data": {
      "text/plain": [
       "0.6666666666666666"
      ]
     },
     "execution_count": 4,
     "metadata": {},
     "output_type": "execute_result"
    }
   ],
   "source": [
    "accuracy_score(y_expected, y_predicted)"
   ]
  },
  {
   "cell_type": "markdown",
   "metadata": {},
   "source": [
    "Tambien se puede calcular la precision en la clasificacion de cada clase usando la informacion de su fila\n",
    "\n",
    "\\begin{equation*}\n",
    "AntsPrecision = \\frac{2 (true-ants)}{2 (true-ant) + 0 (false-bird) + 0 (false-cat)} = 1\n",
    "\\end{equation*}\n",
    "\n",
    "\\begin{equation*}\n",
    "BirdsPrecision = \\frac{0 (true-birds)}{0 (false-ant) + 0 (true-bird) + 1 (false-cat)} = 0\n",
    "\\end{equation*}\n",
    "\n",
    "\\begin{equation*}\n",
    "CatsPrecision = \\frac{2 (true-cat)}{1 (false-ant) + 0 (false-bird) + 2 (true-cat)} = 0.666\n",
    "\\end{equation*}\n",
    "\n",
    "Estos mismos valores se pueden ver en la **diagonal** de la matrix normalizada:"
   ]
  },
  {
   "cell_type": "code",
   "execution_count": 5,
   "metadata": {},
   "outputs": [
    {
     "name": "stdout",
     "output_type": "stream",
     "text": [
      "[[1.         0.         0.        ]\n",
      " [0.         0.         1.        ]\n",
      " [0.33333333 0.         0.66666667]]\n"
     ]
    }
   ],
   "source": [
    "# Imports\n",
    "import numpy as np\n",
    "\n",
    "confusionMatrixResult = confusionMatrixResult.astype('float') / confusionMatrixResult.sum(axis=1)[:, np.newaxis]\n",
    "\n",
    "print (confusionMatrixResult)"
   ]
  },
  {
   "cell_type": "markdown",
   "metadata": {},
   "source": [
    "## Ejemplos - Precision y Recall (Sensibility)\n",
    "\n",
    "Usando SciKit Learn existen APIs para calcular varias de estas metricas (precision, sensibilidad, F1, etc) rapidamente. "
   ]
  },
  {
   "cell_type": "code",
   "execution_count": 6,
   "metadata": {},
   "outputs": [
    {
     "data": {
      "text/plain": [
       "array([[2, 1, 0],\n",
       "       [0, 0, 2],\n",
       "       [0, 1, 0]])"
      ]
     },
     "execution_count": 6,
     "metadata": {},
     "output_type": "execute_result"
    }
   ],
   "source": [
    "import numpy as np\n",
    "from sklearn.metrics import precision_recall_fscore_support\n",
    "y_true = np.array(['cat', 'dog', 'pig', 'cat', 'dog', 'pig'])\n",
    "y_pred = np.array(['cat', 'pig', 'dog', 'cat', 'cat', 'dog'])\n",
    "\n",
    "confusion_matrix(y_pred, y_true, labels=[\"cat\", \"dog\", \"pig\"])"
   ]
  },
  {
   "cell_type": "markdown",
   "metadata": {},
   "source": [
    "![CFM](RecallExample.png \"CFM\")"
   ]
  },
  {
   "cell_type": "code",
   "execution_count": 7,
   "metadata": {},
   "outputs": [
    {
     "data": {
      "text/plain": [
       "(array([0.66666667]), array([1.]), array([0.8]), array([2]))"
      ]
     },
     "execution_count": 7,
     "metadata": {},
     "output_type": "execute_result"
    }
   ],
   "source": [
    "precision_recall_fscore_support(y_true, y_pred, average=None, labels=['cat'])\n",
    "\n",
    "# Cat Precision = tp/tp+fp  = 2/2+1 = 0.66\n",
    "# Cat Recall    = tp/tp+fn  = 2/2+0 = 1\n",
    "# Cat F_Score   = 2*P*R/P+R = 2*1*0.66/1+0.66 = 0.8 "
   ]
  },
  {
   "cell_type": "markdown",
   "metadata": {},
   "source": [
    "![Demo](HorizontalRule.png \"Demo\")"
   ]
  },
  {
   "cell_type": "markdown",
   "metadata": {},
   "source": [
    "# <span style=\"color:red\">Per-Class Precision Average</span>\n",
    "\n",
    "## En que consiste\n",
    "\n",
    "En el ejemplo anterior de *Confusion Matrix* se encontraron 4 valores de precision\n",
    "\n",
    "| Precision                             | Valor(%) |\n",
    "| ------------------------------------- | -------- |\n",
    "| MicroPrecision (A.K.A Accuracy_Score) | 66.66    |\n",
    "| Precision Clase *Ant*                 | 100      |\n",
    "| Precision Clase *Bird*                | 0        |\n",
    "| Precision Clase *Cat*                 | 66.66    |\n",
    "\n",
    "En casos de clasificacion en donde existen multiples clases puede ser muy util calcular la *Macro Precision*, para analizar el balance en la clasificacion de las clases:\n",
    "\n",
    "\\begin{equation*}\n",
    "PerClassAccuracyAverage = \\frac{Accuracy Clase 1 + Accuracy Clase 2 + ... + Accuracy Clase N }{Numero de Clases Total}\n",
    "\\end{equation*}\n",
    "\n",
    "## Casos de uso\n",
    "\n",
    "- Clasificacion multi-clase\n",
    "\n",
    "## Ventajas\n",
    "\n",
    "Otra herramienta mas para ayudar a identificar sets de datos desbalanceados, ayuda junto con las precisiones individuales por clase a identificar cuan desbalanceado es un set de datos\n",
    "\n",
    "## Desafios\n",
    "\n",
    "Su resultado requiere de interpretacion experta porque si existen muchos ejemplos de una clase y muy pocos de otra, calcular el promedio de las podria disminuir la medida de confiabilidad de la precision de las clases individuales.\n",
    "\n",
    "## Ejemplo"
   ]
  },
  {
   "cell_type": "code",
   "execution_count": 8,
   "metadata": {},
   "outputs": [
    {
     "name": "stdout",
     "output_type": "stream",
     "text": [
      "[1.         0.         0.66666667]\n"
     ]
    }
   ],
   "source": [
    "# Imports \n",
    "import numpy as np\n",
    "import statistics as s\n",
    "\n",
    "# Using the results from the previous Confusion Matrix\n",
    "AccuracyPerClass = confusionMatrixResult.diagonal()\n",
    "\n",
    "print(AccuracyPerClass)"
   ]
  },
  {
   "cell_type": "code",
   "execution_count": 9,
   "metadata": {},
   "outputs": [
    {
     "data": {
      "text/plain": [
       "0.5555555555555556"
      ]
     },
     "execution_count": 9,
     "metadata": {},
     "output_type": "execute_result"
    }
   ],
   "source": [
    "s.mean(AccuracyPerClass)"
   ]
  },
  {
   "cell_type": "markdown",
   "metadata": {},
   "source": [
    "El valor de macro-precision obtenido de haber promediado la precision por clase, nos muestra que hay un desbalance en el exito de las predicciones por clase\n",
    "\n",
    "| Precision                             | Valor(%) |\n",
    "| ------------------------------------- | -------- |\n",
    "| MicroPrecision (A.K.A Accuracy_Score) | 66.66    |\n",
    "| Precision Clase *Ant*                 | 100      |\n",
    "| Precision Clase *Bird*                | 0        |\n",
    "| Precision Clase *Cat*                 | 66.66    |\n",
    "| MacroPrecision                        | 55.55    |"
   ]
  },
  {
   "cell_type": "markdown",
   "metadata": {},
   "source": [
    "![Demo](HorizontalRule.png \"Demo\")"
   ]
  },
  {
   "cell_type": "markdown",
   "metadata": {},
   "source": [
    "# <span style=\"color:red\">F1 Score</span>\n",
    "\n",
    "Realmente no deseamos andar calculando las metricas anteriores, generalmente deseammos tener un solo valor que nos indique la ambas. Para esto podemos tomar la media artimetica como base. Veamos un ejemplo, tenemos 100 transacciones bancarias, de las cuales 97 son legitimas y 3 son fraudes. Asumamos que teniamos un modelo que predijo todo como un fraude:"
   ]
  },
  {
   "cell_type": "markdown",
   "metadata": {},
   "source": [
    "| Predicted \\ Actual  | Fraud | Not Fraud |\n",
    "| --- | --- | --- |\n",
    "| __Fraud__ | 3 | 97 |\n",
    "| __Not Fraud__ | 0 | 0 |"
   ]
  },
  {
   "cell_type": "markdown",
   "metadata": {},
   "source": [
    "Utilizando las metricas de precision y Sensibilidad, obtenemos: \n",
    "\n",
    "\\begin{equation*}\n",
    "Precision = \\frac{3}{100} = 3 \\%\n",
    "\\end{equation*}\n",
    "\n",
    "\n",
    "\\begin{equation*}\n",
    "Sensibilidad = \\frac{3}{3} = 100 \\%\n",
    "\\end{equation*}"
   ]
  },
  {
   "cell_type": "markdown",
   "metadata": {},
   "source": [
    "Ahora con la media aritmética tenemos que arroja el valor de 51%. Dicho valor no tiene sentido para el modelo planteado que predijo que todo era un fraude. \n",
    "Necesitamos un modelo mas robusto y mejor balanceado que la media aritmetica. La media harmonica viene a cumplir un papel en esta metrica. \n",
    "\n",
    "\\begin{equation*}\n",
    "Media Harmonica = \\frac{2 * x * y}{x + y}\n",
    "\\end{equation*}\n",
    "\n",
    "\n",
    "La media armónica es casi un promnedio cuando los valores x, y, son iguales. Por otro lado, la media harmonica se aproxima al valor menor cuando x, y son diferentes.\n",
    "\n",
    "Aplicando la media harmónica al ejemplo anterior,  con P como precisión y R como Recall(Sensibilidad), obtenemos:\n",
    "\n",
    "\n",
    "\\begin{equation*}\n",
    "F1 Score = \\frac{2 * P * R}{P + R}\n",
    "\\end{equation*}\n",
    "\n",
    "\\begin{equation*}\n",
    "F1 Score = \\frac{2 * 3 * 100}{3 + 100}\n",
    "\\end{equation*}\n",
    "\n",
    "\\begin{equation*}\n",
    "F1 Score = 5.8\\%\n",
    "\\end{equation*}\n",
    "\n",
    "\n",
    "El resultado obtenido es pequeño por lo tanto da una señal de que uno de los valores también es muy pequeño, siendo un valor más realista que describe el modelo utilizado. \n",
    "\n",
    "\n",
    "## Casos de Uso\n",
    "\n",
    "Generalmente es utilizado con la métricas de Precisión y Sensibilidad.\n",
    "\n",
    "\n",
    "## Ventajas \n",
    "\n",
    "- Genera un solo valor que da un señal de cómo está el modelo en cuanto la precisión y sensibilidad.\n",
    "\n",
    "\n",
    "## Desafios\n",
    "\n",
    "- Trata todos los datos obtenidos equitativamente. Es decir, un resultado en la posición k es igual de importante que un resultado en la posicion l.\n",
    "\n",
    "## Ejemplos"
   ]
  },
  {
   "cell_type": "code",
   "execution_count": 10,
   "metadata": {},
   "outputs": [
    {
     "data": {
      "text/plain": [
       "0.26666666666666666"
      ]
     },
     "execution_count": 10,
     "metadata": {},
     "output_type": "execute_result"
    }
   ],
   "source": [
    "from sklearn.metrics import f1_score\n",
    "y_true = [0, 1, 2, 0, 1, 2]\n",
    "y_pred = [0, 2, 1, 0, 0, 1]\n",
    "f1_score(y_true, y_pred, average='macro')  \n",
    "#0.26..."
   ]
  },
  {
   "cell_type": "code",
   "execution_count": 11,
   "metadata": {},
   "outputs": [
    {
     "data": {
      "text/plain": [
       "0.3333333333333333"
      ]
     },
     "execution_count": 11,
     "metadata": {},
     "output_type": "execute_result"
    }
   ],
   "source": [
    "f1_score(y_true, y_pred, average='micro')  \n",
    "#0.33..."
   ]
  },
  {
   "cell_type": "code",
   "execution_count": 12,
   "metadata": {},
   "outputs": [
    {
     "data": {
      "text/plain": [
       "0.26666666666666666"
      ]
     },
     "execution_count": 12,
     "metadata": {},
     "output_type": "execute_result"
    }
   ],
   "source": [
    "f1_score(y_true, y_pred, average='weighted')  \n",
    "#0.26..."
   ]
  },
  {
   "cell_type": "code",
   "execution_count": 13,
   "metadata": {},
   "outputs": [
    {
     "data": {
      "text/plain": [
       "array([0.8, 0. , 0. ])"
      ]
     },
     "execution_count": 13,
     "metadata": {},
     "output_type": "execute_result"
    }
   ],
   "source": [
    "f1_score(y_true, y_pred, average=None)\n",
    "#array([0.8, 0. , 0. ])"
   ]
  },
  {
   "cell_type": "markdown",
   "metadata": {},
   "source": [
    "![Demo](HorizontalRule.png \"Demo\")"
   ]
  },
  {
   "cell_type": "markdown",
   "metadata": {},
   "source": [
    "# <span style=\"color:red\">ROC (Receiver Operating Curve) and its AUC (Area Under the Curve)</span>\n",
    "\n",
    "## En que consiste\n",
    "\n",
    "Ampliamente utilizado en problemas de clasificacion binaria. Los ROC son graficas que muestran la relacion de la sensibilidad y la especifidad de un modelo, cada par ordenado se puede extraer de la matriz de confusion obtenida despues de entrenar y poner a prueba a un modelo de clasificacion.\n",
    "\n",
    "El ROC permite de manera grafica evaluar la eficacia de un clasificador binario al plotear los resultados de sus diferentes iteraciones en una sola curva.\n",
    "\n",
    "![Demo](ROCPlotPoint.png \"Demo\")\n",
    "\n",
    "Tiene dos funciones principales:\n",
    "\n",
    "Primero, permite comparar resultados de desempeño de un modelo cuando se varian las probabilidades numericas de los limites de desicion\n",
    "\n",
    "![Demo](ROC.png \"Demo\")\n",
    "\n",
    "Segundo, el Area bajo la curva es un cuantificador de cuan bueno es un modelo, su valor maximo es **1** y se puede utilizar para comparar desempeño entre modelos de clasificadores\n",
    "\n",
    "![Demo](ROC_AUC.png \"Demo\")\n",
    "\n",
    "## Casos de uso\n",
    "\n",
    "- Clasificacion binaria\n",
    "- Clasificacion multi-etiqueta\n",
    "\n",
    "## Ventajas\n",
    "\n",
    "Resume en una grafica el comportamiento del modelo ante variaciones de sus hiperparametros para que el usuario decida cuales son los valores optimos para resolver su problema\n",
    "\n",
    "## Desafios\n",
    "\n",
    "- Requiere de interpretacion experta\n",
    "- Es laborioso crear las curvas\n",
    "\n",
    "## Ejemplo"
   ]
  },
  {
   "cell_type": "code",
   "execution_count": 14,
   "metadata": {},
   "outputs": [],
   "source": [
    "# Imports\n",
    "from sklearn.datasets import make_classification\n",
    "from sklearn.neighbors import KNeighborsClassifier\n",
    "from sklearn.model_selection import train_test_split\n",
    "from sklearn.metrics import roc_curve\n",
    "from sklearn.metrics import roc_auc_score\n",
    "from matplotlib import pyplot\n",
    "\n",
    "# Generate 2 class dataset\n",
    "X, y = make_classification(n_samples=1000, n_features=20, n_classes=2, weights=[1,1], random_state=1)\n",
    "# Split into train/test sets\n",
    "trainX, testX, trainy, testy = train_test_split(X, y, test_size=0.5, random_state=2)\n",
    "\n",
    "# Fit a model\n",
    "model = KNeighborsClassifier(n_neighbors=3)\n",
    "model.fit(trainX, trainy)\n",
    "# Predict probabilities\n",
    "probs = model.predict_proba(testX)\n",
    "# Keep probabilities for the positive outcome only\n",
    "probs = probs[:, 1]"
   ]
  },
  {
   "cell_type": "markdown",
   "metadata": {},
   "source": [
    "Se toman las probabilidades numericas de las predicciones del clasificador para usarlas como valores de umbral de prueba y ver como cambiaria el comportamiento del modelo si fueran utilizadas como el criterio de decision."
   ]
  },
  {
   "cell_type": "code",
   "execution_count": 15,
   "metadata": {},
   "outputs": [
    {
     "name": "stdout",
     "output_type": "stream",
     "text": [
      "AUC: 0.895\n",
      "\n",
      "Thresholds\n",
      "['2.000%', '1.000%', '0.667%', '0.333%', '0.000%']\n",
      "\n",
      "True Positive Rate\n",
      "['0.000%', '0.562%', '0.884%', '0.975%', '1.000%']\n",
      "False Positive Rate\n",
      "['0.000%', '0.054%', '0.217%', '0.407%', '1.000%']\n"
     ]
    }
   ],
   "source": [
    "# Calculate AUC\n",
    "auc = roc_auc_score(testy, probs)\n",
    "print('AUC: %.3f' % auc)\n",
    "\n",
    "# Calculate roc curve points\n",
    "fpr, tpr, thresholds = roc_curve(testy, probs)\n",
    "\n",
    "# Print the threshould we are going to be testing with ROC\n",
    "print (\"\\nThresholds\")\n",
    "print(list(map('{:.3f}%'.format,thresholds)))\n",
    "\n",
    "# Print the (x,y) coordinates of the data points\n",
    "print (\"\\nTrue Positive Rate\")\n",
    "print(list(map('{:.3f}%'.format,tpr)))\n",
    "\n",
    "print (\"False Positive Rate\")\n",
    "print(list(map('{:.3f}%'.format,fpr)))"
   ]
  },
  {
   "cell_type": "code",
   "execution_count": 16,
   "metadata": {},
   "outputs": [
    {
     "data": {
      "image/png": "[encoded data removed]",
      "text/plain": [
       "<Figure size 432x288 with 1 Axes>"
      ]
     },
     "metadata": {
      "needs_background": "light"
     },
     "output_type": "display_data"
    }
   ],
   "source": [
    "# Plot\n",
    "pyplot.plot([0, 1], [0, 1], linestyle='--')\n",
    "# Plot the roc curve for the model\n",
    "pyplot.plot(fpr, tpr, marker='.')\n",
    "# Show the plot\n",
    "pyplot.show()"
   ]
  },
  {
   "cell_type": "markdown",
   "metadata": {},
   "source": [
    "A partir de este punto se requiere de interpretacion por parte del usuario para decidir cuantos falsos positivos se puede permitir para el problema en analisis.\n",
    "\n",
    "Por ejemplo:\n",
    "- Si se usa un umbral de decision de 66% en la clasificacion, se obtendran un 88.4% de Verdaderos Positivos pero un 21.7% de Falsos Positivos\n",
    "- Si se usa un umbral de decision de 33% en la clasificacion, se obtendran un 97.5% de Verdaderos Positivos pero un 40.7% de Falsos Positivos"
   ]
  },
  {
   "cell_type": "markdown",
   "metadata": {},
   "source": [
    "![Demo](HorizontalRule.png \"Demo\")"
   ]
  },
  {
   "cell_type": "markdown",
   "metadata": {},
   "source": [
    "# <span style=\"color:red\">Logarithmic Loss</span>\n",
    "\n",
    "## En que consiste\n",
    "\n",
    "Analiza la salida cruda de un clasificador cuando su salida es una probabilidad numerica en lugar de una variable booleana. Esta probabilidad se puede usar como un indice de confiabilidad.\n",
    "\n",
    "La clasificacion boleana (0 ó 1) se puede ver en terminos numeros como probabilidad por arriba y por debajo de 0.50, siendo clase 0 si el valor es igual o menor que 0.50, y clase 1 si el valor es mayor o igual que 0.51.\n",
    "\n",
    "El analisis logaritmo analiza los fallos y aciertos en terminos de estas probabilidades numericas para ver que tan contundentes son los aciertos y los desaciertos. Valores cercanos a 0.50 tienen la probabilidad de ser clasificados como cualquiera de las dos clases, lo ideal es lograr resultados tan cerca de los extremos (0 ó 1) como sea posible.\n",
    "\n",
    "Matematicamente para un clasificador binario se define como:\n",
    "\n",
    "\\begin{equation*}\n",
    "LogLoss = \\frac{-1}{N} \\sum_{i=1}^N y_i \\times log p_i + (1-y_i) \\times log(1-p_i)\n",
    "\\end{equation*}\n",
    "\n",
    "*Logarithmic Loss* es la entropia cruzada entre las distribuciones de valores esperados y de predicciones, la entropia mide la inprevisibilidad de algo, en este caso, mide el \"ruido\" que provoca el modelo predictor y que causa que el vector de salidas del predictor no sea igual al vector de valores esperados.\n",
    "\n",
    "Minimizar ese \"ruido\" es equivalente a mejorar el desempeño del modelo de prediccion.\n",
    "\n",
    "## Casos de uso\n",
    "\n",
    "- Clasificacion multi-etiqueta\n",
    "- Clasificacion multi-clase\n",
    "- Cuando la salida de un algoritmo clasificador es una probabilidad numerica en lugar de una variable booleana\n",
    "\n",
    "## Ventajas\n",
    "\n",
    "Un metrica de evaluacion mas meticulosa que accuracy_score y que busca no solo analizar las predicciones correctas, sino tambien cuantificar cuan cerca o lejos estuvieron del limite de decision\n",
    "\n",
    "## Desafios\n",
    "\n",
    "Trabajar con escala logaritmica no es intuitivo\n",
    "\n",
    "## Ejemplo"
   ]
  },
  {
   "cell_type": "code",
   "execution_count": 17,
   "metadata": {},
   "outputs": [
    {
     "data": {
      "text/plain": [
       "2.1094237467877998e-15"
      ]
     },
     "execution_count": 17,
     "metadata": {},
     "output_type": "execute_result"
    }
   ],
   "source": [
    "# Imports\n",
    "from sklearn.metrics import log_loss\n",
    "\n",
    "# Perfect prediction\n",
    "actual_labels = [\"ant\", \"bird\", \"cat\"]\n",
    "log_loss(actual_labels,  [[1, 0, 0], [0, 1, 0], [0, 0, 1]])"
   ]
  },
  {
   "cell_type": "code",
   "execution_count": 18,
   "metadata": {},
   "outputs": [
    {
     "data": {
      "text/plain": [
       "34.538776394910684"
      ]
     },
     "execution_count": 18,
     "metadata": {},
     "output_type": "execute_result"
    }
   ],
   "source": [
    "# Completely wrong prediction in all 3 cases\n",
    "log_loss(actual_labels,  [[0, 0, 1], [0, 0, 1], [1, 0, 0]])"
   ]
  },
  {
   "cell_type": "code",
   "execution_count": 19,
   "metadata": {},
   "outputs": [
    {
     "data": {
      "text/plain": [
       "0.639107564067801"
      ]
     },
     "execution_count": 19,
     "metadata": {},
     "output_type": "execute_result"
    }
   ],
   "source": [
    "# Prediction with non binary probabilities\n",
    "log_loss(actual_labels,  [[0.35, 0.65, 0], [0, 0.70, 0.30], [0.2, 0.2, 0.6]])"
   ]
  },
  {
   "cell_type": "markdown",
   "metadata": {},
   "source": [
    "## Ejemplo con Random Forest"
   ]
  },
  {
   "cell_type": "code",
   "execution_count": 20,
   "metadata": {
    "scrolled": true
   },
   "outputs": [
    {
     "name": "stdout",
     "output_type": "stream",
     "text": [
      "Test accuracy = 0.78\n",
      "Log-Loss = 1.289\n"
     ]
    }
   ],
   "source": [
    "from sklearn.datasets import make_blobs\n",
    "from sklearn.ensemble import RandomForestClassifier\n",
    "from sklearn.metrics import accuracy_score\n",
    "from sklearn.metrics import log_loss\n",
    "\n",
    "# Generate data\n",
    "X, y = make_blobs(n_samples=1000, n_features=2, random_state=42, cluster_std=5.0)\n",
    "\n",
    "# Divide the data in training-set and testing-set\n",
    "X_train, y_train = X[:800], y[:800]\n",
    "X_test, y_test = X[800:], y[800:]\n",
    "\n",
    "# Train uncalibrated random forest classifier on whole train and validation\n",
    "# data and evaluate on test data\n",
    "clf = RandomForestClassifier(n_estimators=25)\n",
    "clf.fit(X_train, y_train)\n",
    "\n",
    "# Get predictions and predictions probabilities\n",
    "y_predict = clf.predict(X_test)\n",
    "y_predict_probability = clf.predict_proba(X_test)\n",
    "\n",
    "# Get the accuracy and logaritmic loss metrics\n",
    "accuracy_score = accuracy_score(y_test, y_predict)\n",
    "logloss_score = log_loss(y_test, y_predict_probability)\n",
    "\n",
    "print(\"Test accuracy = {}\".format(accuracy_score))\n",
    "print(\"Log-Loss = {:0.3f}\".format(logloss_score))"
   ]
  },
  {
   "cell_type": "markdown",
   "metadata": {},
   "source": [
    "![Demo](HorizontalRule.png \"Demo\")"
   ]
  },
  {
   "cell_type": "markdown",
   "metadata": {},
   "source": [
    "# <span style=\"color:red\">Brier Score</span>\n",
    "\n",
    "## En que consiste\n",
    "\n",
    "Se suele interpretar como una medida de la \"calibration\" de un set de predicciones probabilisticas, o como una funcion de costo. La metrica de Brier mide la diferencia media cuadratica entre:\n",
    "\n",
    "- La probabilidad predicha para el item *i*\n",
    "- El valor actual del item *i*\n",
    "\n",
    "\\begin{equation*}\n",
    "Brier Score = \\frac{1}{N} \\sum_{t=1}^N (f_t-o_t)^2\n",
    "\\end{equation*}\n",
    "\n",
    "Su valor se encuentra en 0 y 1, siendo 0 el mejor resultado y 1 el peor.\n",
    "\n",
    "## Casos de uso\n",
    "\n",
    "- En clasificacion binaria\n",
    "- Prediccion es una probabilidad numerica\n",
    "\n",
    "## Ventajas\n",
    "\n",
    "Mide el desempeño como si fuera una funcion de costo, sumando error por cada prediccion\n",
    "\n",
    "## Desafios\n",
    "\n",
    "No es apropiado cuando ocurren eventos con baja o alta frecuencia porque no puede discriminar los cambios en la prediccion que son significantes\n",
    "\n",
    "## Ejemplo"
   ]
  },
  {
   "cell_type": "code",
   "execution_count": 21,
   "metadata": {},
   "outputs": [
    {
     "data": {
      "text/plain": [
       "0.03749999999999999"
      ]
     },
     "execution_count": 21,
     "metadata": {},
     "output_type": "execute_result"
    }
   ],
   "source": [
    "import numpy as np\n",
    "from sklearn.metrics import brier_score_loss\n",
    "\n",
    "y_prob = np.array([0.1, 0.9, 0.8, 0.3])\n",
    "y_true = np.array([0, 1, 1, 0])\n",
    "\n",
    "# How to calculate Brier score manually\n",
    "# - We expected not to rain (P=0.1) and it didn't rain (0) = (0.1-0)^2\n",
    "# - We expected rain (P=0.9) and it rained (1)             = (0.9-1)^2\n",
    "# - We expected rain (P=0.8) and it rained (1)             = (0.8-1)^2\n",
    "# - We expected not to rain (P=0.3) and it didn't rain (0) = (0.3-0)^2\n",
    "\n",
    "# Now we apply the formula\n",
    "# ((0.1-0)^2 + (0.9-1)^2 + (0.8-1)^2 + (0.3-0)^2) / 4\n",
    "# (0.01 + 0.01 + 0.04 + 0.09) /4 = 0.0375\n",
    "\n",
    "brier_score_loss(y_true, y_prob)"
   ]
  },
  {
   "cell_type": "markdown",
   "metadata": {},
   "source": [
    "![Demo](HorizontalRule.png \"Demo\")"
   ]
  },
  {
   "cell_type": "markdown",
   "metadata": {},
   "source": [
    "# <span style=\"color:red\">Jaccard Score</span>\n",
    "\n",
    "## En que consiste\n",
    "\n",
    "Es una estadistica utilizada para medir la similaridad y diversidad de sets de muestras. Se define como la division de la interseccion de los grupos entre su union.\n",
    "\n",
    "\\begin{equation*}\n",
    "Jaccard Index = \\frac{A \\bigcap B}{A \\bigcup B}\n",
    "\\end{equation*}\n",
    "\n",
    "Su valor se encuentra en 0 y 1, siendo 1 el mejor resultado y 0 el peor.\n",
    "\n",
    "## Casos de uso\n",
    "\n",
    "- Clasificacion multi-etiqueta\n",
    "- Comparacion entre grupos de datos\n",
    "\n",
    "## Ventajas\n",
    "\n",
    "Mide similitud entre datos\n",
    "\n",
    "## Desafios\n",
    "\n",
    "La similitud entre los grupos de datos dice poco de como mejorar la configuracion del modelo de clasificacion\n",
    "\n",
    "## Ejemplo"
   ]
  },
  {
   "cell_type": "code",
   "execution_count": 22,
   "metadata": {},
   "outputs": [
    {
     "data": {
      "text/plain": [
       "0.3333333333333333"
      ]
     },
     "execution_count": 22,
     "metadata": {},
     "output_type": "execute_result"
    }
   ],
   "source": [
    "def jaccard_similarity(list1, list2):\n",
    "    s1 = set(list1)\n",
    "    s2 = set(list2)\n",
    "    return len(s1.intersection(s2)) / len(s1.union(s2))\n",
    "\n",
    "list1 = [0,1,2,5,6,0,1]\n",
    "list2 = [0,2,3,4,5,7,9]\n",
    "\n",
    "# Jaccard measures how similar are 2 groups by dividing their intersection by their union\n",
    "# J(A,B) = |A∩B| / |A∪B| \n",
    "#        = |{0,2,5}| / |{0,1,2,3,4,5,6,7,9}| \n",
    "#        = 3/9 = 0.33\n",
    "\n",
    "jaccard_similarity(list1, list2)"
   ]
  },
  {
   "cell_type": "markdown",
   "metadata": {},
   "source": [
    "![Demo](HorizontalRule.png \"Demo\")"
   ]
  },
  {
   "cell_type": "markdown",
   "metadata": {},
   "source": [
    "# <span style=\"color:red\">Resumen de Metricas para Clasificacion</span>\n",
    "\n",
    "<style type=\"text/css\">\n",
    ".tg  {border-collapse:collapse;border-spacing:0;}\n",
    ".tg td{font-family:Arial, sans-serif;font-size:14px;padding:10px 5px;border-style:solid;border-width:1px;overflow:hidden;word-break:normal;border-color:black;}\n",
    ".tg th{font-family:Arial, sans-serif;font-size:14px;font-weight:normal;padding:10px 5px;border-style:solid;border-width:1px;overflow:hidden;word-break:normal;border-color:black;}\n",
    ".tg .tg-0pky{border-color:inherit;text-align:left;vertical-align:top}\n",
    "</style>\n",
    "<table class=\"tg\">\n",
    "  <tr>\n",
    "    <th class=\"tg-0pky\">Metrica</th>\n",
    "    <th class=\"tg-0pky\">Caso de Uso</th>\n",
    "    <th class=\"tg-0pky\">Ventaja</th>\n",
    "    <th class=\"tg-0pky\">Desafio</th>\n",
    "  </tr>\n",
    "  <tr>\n",
    "    <td class=\"tg-0pky\" align=\"right\">Accuracy Score</td>\n",
    "    <td class=\"tg-0pky\" align=\"right\">- Proposito general</td>\n",
    "    <td class=\"tg-0pky\" align=\"right\">- Simplicidad</td>\n",
    "    <td class=\"tg-0pky\" align=\"right\">- No distingue entre clases<br>- No muestra informacion sobre fallas</td>\n",
    "  </tr>\n",
    "  <tr>\n",
    "    <td class=\"tg-0pky\" align=\"right\">Confusion Matrix</td>\n",
    "    <td class=\"tg-0pky\" align=\"right\">- Clasificacion binaria<br>- Clasificacion multi-clase<br>- Clasificacion multi-etiqueta</td>\n",
    "    <td class=\"tg-0pky\" align=\"right\">- Muestra desglose de aciertos y fallas<br>- Base para calcular muchas otras metricas</td>\n",
    "    <td class=\"tg-0pky\" align=\"right\">- Para sacarle provecho a los resultados requiere de analisis adicional por parte del usuario</td>\n",
    "  </tr>\n",
    "  <tr>\n",
    "    <td class=\"tg-0pky\" align=\"right\">Presicion-Sensitividad</td>\n",
    "    <td class=\"tg-0pky\" align=\"right\">- Clasificacion binaria<br>-Clasificacion multi-etiqueta</td>\n",
    "    <td class=\"tg-0pky\" align=\"right\">- Simplicidad</td>\n",
    "    <td class=\"tg-0pky\" align=\"right\">- Uno afecta al otro<br>- No es facil de optimizar si no hay objetivos claros<br>- Base para calcular muchas otras metricas</td>\n",
    "  </tr>\n",
    "  <tr>\n",
    "    <td class=\"tg-0pky\" align=\"right\">F1 Score</td>\n",
    "    <td class=\"tg-0pky\" align=\"right\">-Clasificacion multi-etiqueta<br>- Clasificacion multi-clase</td>\n",
    "    <td class=\"tg-0pky\" align=\"right\">- Genera una sola salida para la precision y la sensitividad.</td>\n",
    "    <td class=\"tg-0pky\" align=\"right\">Para sacarle provecho a los resultados requiere de analisis adicional por parte del usuario</td>\n",
    "  </tr>\n",
    "  <tr>\n",
    "    <td class=\"tg-0pky\" align=\"right\">Per-Class Precision Average</td>\n",
    "    <td class=\"tg-0pky\" align=\"right\">- Clasificacion multi-clase</td>\n",
    "    <td class=\"tg-0pky\" align=\"right\">- Ayuda a cuantificar si los datos de entrenamiento son parciales hacia una clase</td>\n",
    "    <td class=\"tg-0pky\" align=\"right\">- Calcular el promedio de las clases puede disminuir la medida de confiabilidad de la precision de las clases individuales</td>\n",
    "  </tr>\n",
    "  <tr>\n",
    "    <td class=\"tg-0pky\" align=\"right\">ROC</td>\n",
    "    <td class=\"tg-0pky\" align=\"right\">- Clasificacion binaria<br>- Comparacion grafica de desempeño</td>\n",
    "    <td class=\"tg-0pky\" align=\"right\">- Comparacion visual de los efectos de multiples configuraciones</td>\n",
    "    <td class=\"tg-0pky\" align=\"right\">- Generar curvas ROC es laborioso</td>\n",
    "  </tr>\n",
    "  <tr>\n",
    "    <td class=\"tg-0pky\" align=\"right\">ROC_AUC</td>\n",
    "    <td class=\"tg-0pky\" align=\"right\">- Comparacion cuantitativa de curvas ROC</td>\n",
    "    <td class=\"tg-0pky\" align=\"right\">- Cuantificador de desempeño de diferentes modelos</td>\n",
    "    <td class=\"tg-0pky\" align=\"right\">- Requiere de curvas ROC</td>\n",
    "  </tr>\n",
    "  <tr>\n",
    "    <td class=\"tg-0pky\" align=\"right\">Log Loss</td>\n",
    "    <td class=\"tg-0pky\" align=\"right\">- Clasificacion multi-etiqueta<br>- Salida es una probabilidad numerica<br>- Analisis de cuan alejadas estan las predicciones del limite de decision </td>\n",
    "    <td class=\"tg-0pky\" align=\"right\">- Para optimizar valores mas alla del limite de decision del clasificador</td>\n",
    "    <td class=\"tg-0pky\" align=\"right\">- Trabajar en escala logaritmica no es intuitivo</td>\n",
    "  </tr>\n",
    "  <tr>\n",
    "    <td class=\"tg-0pky\" align=\"right\">Brier Score</td>\n",
    "    <td class=\"tg-0pky\" align=\"right\">- Clasificacion binaria<br>- Salida es una probabilidad numerica</td>\n",
    "    <td class=\"tg-0pky\" align=\"right\">- Mide el desempeño como si fuera una funcion de costo</td>\n",
    "    <td class=\"tg-0pky\" align=\"right\">- No es apropiado cuando ocurren eventos con baja o alta frecuencia</td>\n",
    "  </tr>\n",
    "  <tr>\n",
    "    <td class=\"tg-0pky\" align=\"right\">Jaccard Index</td>\n",
    "    <td class=\"tg-0pky\" align=\"right\">- Clasificacion multi-etiqueta<br>- Comparacion entre grupos de datos</td>\n",
    "    <td class=\"tg-0pky\" align=\"right\">- Mide similitud entre datos</td>\n",
    "    <td class=\"tg-0pky\" align=\"right\">- La similitud entre los grupos de datos dice poco de como mejorar la configuracion del modelo de clasificacion</td>\n",
    "  </tr>\n",
    "</table>"
   ]
  },
  {
   "cell_type": "markdown",
   "metadata": {},
   "source": [
    "![Demo](HorizontalRule.png \"Demo\")"
   ]
  },
  {
   "cell_type": "markdown",
   "metadata": {},
   "source": [
    "# <span style=\"color:red\">Max Error</span>\n",
    "\n",
    "Calcula el máximo error residual del modelo. "
   ]
  },
  {
   "cell_type": "markdown",
   "metadata": {},
   "source": [
    "## Casos de Uso\n",
    "\n",
    "Se desea encontrar el error maximo\n",
    "\n",
    "## Ventajas\n",
    "\n",
    "Simplicidad\n",
    "\n",
    "## Desafios\n",
    "\n",
    "Ninguno\n",
    "\n",
    "## Ejemplo"
   ]
  },
  {
   "cell_type": "code",
   "execution_count": 23,
   "metadata": {},
   "outputs": [
    {
     "data": {
      "text/plain": [
       "1.1799999999999997"
      ]
     },
     "execution_count": 23,
     "metadata": {},
     "output_type": "execute_result"
    }
   ],
   "source": [
    "from sklearn.metrics import max_error\n",
    "y_true = [3, 2, 7, 1]\n",
    "y_pred = [4.18, 2, 7, 1]\n",
    "max_error(y_true, y_pred)"
   ]
  },
  {
   "cell_type": "markdown",
   "metadata": {},
   "source": [
    "![Demo](HorizontalRule.png \"Demo\")"
   ]
  },
  {
   "cell_type": "markdown",
   "metadata": {},
   "source": [
    "# <span style=\"color:red\">MAE (Mean Absolute Error)</span>\n",
    "\n",
    "\n",
    "Es la diferencia entre los valores originales y los valores predichos. Nos da promedio de que tan largo estan los valores actuales obtenidos de los predichos. \n",
    "\n",
    "\\begin{equation*}\n",
    "MAE = \\frac{ \\sum_{i=1}^n |y_i-\\bar{y_i}|}{n}\n",
    "\\end{equation*}\n",
    "\n",
    "## Casos de Uso\n",
    "\n",
    "- Problemas de Regresion\n",
    "- Escala Lineal para todos los errores\n",
    "- Si existen outliers que no son de interes\n",
    "\n",
    "## Ventajas\n",
    "\n",
    "- Todos los errores mantienen su diferencia lineal, es decir no existe escalamiento como en el caso de RMSE\n",
    "\n",
    "## Desafios\n",
    "\n",
    "- No es tan sensible a outliers\n",
    "\n",
    "## Ejemplo"
   ]
  },
  {
   "cell_type": "code",
   "execution_count": 24,
   "metadata": {},
   "outputs": [
    {
     "data": {
      "text/plain": [
       "0.5"
      ]
     },
     "execution_count": 24,
     "metadata": {},
     "output_type": "execute_result"
    }
   ],
   "source": [
    "from sklearn.metrics import mean_absolute_error\n",
    "y_true = [3, -0.5, 2, 7]\n",
    "y_pred = [2.5, 0.0, 2, 8]\n",
    "mean_absolute_error(y_true, y_pred)"
   ]
  },
  {
   "cell_type": "code",
   "execution_count": 25,
   "metadata": {},
   "outputs": [
    {
     "data": {
      "text/plain": [
       "0.75"
      ]
     },
     "execution_count": 25,
     "metadata": {},
     "output_type": "execute_result"
    }
   ],
   "source": [
    "y_true = [[0.5, 1], [-1, 1], [7, -6]]\n",
    "y_pred = [[0, 2], [-1, 2], [8, -5]]\n",
    "mean_absolute_error(y_true, y_pred)"
   ]
  },
  {
   "cell_type": "code",
   "execution_count": 26,
   "metadata": {},
   "outputs": [
    {
     "data": {
      "text/plain": [
       "array([0.5, 1. ])"
      ]
     },
     "execution_count": 26,
     "metadata": {},
     "output_type": "execute_result"
    }
   ],
   "source": [
    "mean_absolute_error(y_true, y_pred, multioutput='raw_values')"
   ]
  },
  {
   "cell_type": "code",
   "execution_count": 27,
   "metadata": {},
   "outputs": [
    {
     "data": {
      "text/plain": [
       "0.85"
      ]
     },
     "execution_count": 27,
     "metadata": {},
     "output_type": "execute_result"
    }
   ],
   "source": [
    "mean_absolute_error(y_true, y_pred, multioutput=[0.3, 0.7])"
   ]
  },
  {
   "cell_type": "markdown",
   "metadata": {},
   "source": [
    "![Demo](HorizontalRule.png \"Demo\")"
   ]
  },
  {
   "cell_type": "markdown",
   "metadata": {},
   "source": [
    "# <span style=\"color:red\">MSE (Mean Squared Error)</span>\n",
    "\n",
    "Es muy similar a MAE con la diferencia de que se calcula el cuadraro de la resta entre los valores originales y los valores predichos. \n",
    "\n",
    "\\begin{equation*}\n",
    "MSE = \\frac{ \\sum_{i=1}^n (y_i-\\bar{y_i})^2}{n}\n",
    "\\end{equation*}\n",
    "\n",
    "## Casos de Uso\n",
    "\n",
    "- Problemas de Regression\n",
    "- Los errores son mayores que 1\n",
    "- Existen outliers de interes\n",
    "\n",
    "## Ventajas \n",
    "\n",
    "- Es útil cuando tenemos valores inesperados que son de importancia. \n",
    "\n",
    "## Desafios\n",
    "\n",
    "- Si se comete un error en la predicción, al elevar al cuadrado hace más grande el error, provocando que una sobre estimación del modelo. \n",
    "- Por otro lado, si los errores son pequeños o menores a 1 se desestima el modelo.\n",
    "- No es recomendado cuando los datos tienen mucho ruido\n",
    "\n",
    "## Ejemplos"
   ]
  },
  {
   "cell_type": "code",
   "execution_count": 28,
   "metadata": {},
   "outputs": [
    {
     "data": {
      "text/plain": [
       "0.375"
      ]
     },
     "execution_count": 28,
     "metadata": {},
     "output_type": "execute_result"
    }
   ],
   "source": [
    "from sklearn.metrics import mean_squared_error\n",
    "y_true = [3, -0.5, 2, 7]\n",
    "y_pred = [2.5, 0.0, 2, 8]\n",
    "mean_squared_error(y_true, y_pred)"
   ]
  },
  {
   "cell_type": "code",
   "execution_count": 29,
   "metadata": {},
   "outputs": [
    {
     "data": {
      "text/plain": [
       "0.7083333333333334"
      ]
     },
     "execution_count": 29,
     "metadata": {},
     "output_type": "execute_result"
    }
   ],
   "source": [
    "y_true = [[0.5, 1],[-1, 1],[7, -6]]\n",
    "y_pred = [[0, 2],[-1, 2],[8, -5]]\n",
    "mean_squared_error(y_true, y_pred)  "
   ]
  },
  {
   "cell_type": "code",
   "execution_count": 30,
   "metadata": {},
   "outputs": [
    {
     "data": {
      "text/plain": [
       "array([0.41666667, 1.        ])"
      ]
     },
     "execution_count": 30,
     "metadata": {},
     "output_type": "execute_result"
    }
   ],
   "source": [
    "mean_squared_error(y_true, y_pred, multioutput='raw_values')"
   ]
  },
  {
   "cell_type": "code",
   "execution_count": 31,
   "metadata": {},
   "outputs": [
    {
     "data": {
      "text/plain": [
       "0.825"
      ]
     },
     "execution_count": 31,
     "metadata": {},
     "output_type": "execute_result"
    }
   ],
   "source": [
    "mean_squared_error(y_true, y_pred, multioutput=[0.3, 0.7])"
   ]
  },
  {
   "cell_type": "markdown",
   "metadata": {},
   "source": [
    "![Demo](HorizontalRule.png \"Demo\")"
   ]
  },
  {
   "cell_type": "markdown",
   "metadata": {},
   "source": [
    "# <span style=\"color:red\">RMSE (Root Mean Square Error)</span>\n",
    "\n",
    "## En que consiste\n",
    "\n",
    "Es la metrica mas comunmente utilizada para analisis de regression, tambien se le conoce como RMSD (root mean square deviation). Se define como la raiz cuadrada del promedio al cuadrado de la distancia entre el valor actual y el valor predicho:\n",
    "\n",
    "\\begin{equation*}\n",
    "RMSE = \\sqrt{ \\frac{ \\sum_{i=1}^n (y_i-\\bar{y_i})^2}{n} }\n",
    "\\end{equation*}\n",
    "\n",
    "El objetivo es minimizarlo, un valor de \"0\" indica que no hay error.\n",
    "\n",
    "## Casos de uso\n",
    "\n",
    "- Regression\n",
    "- Errores son mayores que 1\n",
    "- Existen outliers de interes\n",
    "\n",
    "## Ventajas\n",
    "\n",
    "Introduce una raiz para mejorar su respuesta ante errores con valores altos, escalandolos\n",
    "\n",
    "## Desafios\n",
    "\n",
    "- Mas complejo de utilizar que MSE\n",
    "- Si se comete un error en la predicción, al elevar al cuadrado hace más grande el error, provocando que una sobre estimación del modelo. \n",
    "- Por otro lado, si los errores son pequeños o menores a 1 se desestima el modelo.\n",
    "- No es recomendado cuando los datos tienen mucho ruido\n",
    "\n",
    "## Ejemplo"
   ]
  },
  {
   "cell_type": "code",
   "execution_count": 40,
   "metadata": {},
   "outputs": [
    {
     "data": {
      "text/plain": [
       "0.0"
      ]
     },
     "execution_count": 40,
     "metadata": {},
     "output_type": "execute_result"
    }
   ],
   "source": [
    "from sklearn.metrics import mean_squared_error\n",
    "from math import sqrt\n",
    "\n",
    "# Perfect prediction, 0 error\n",
    "y_expected = [2.5, -0.5, 2, 7]\n",
    "y_predicted = [2.5, -0.5, 2, 7]\n",
    "sqrt(mean_squared_error(y_expected, y_predicted))"
   ]
  },
  {
   "cell_type": "code",
   "execution_count": 41,
   "metadata": {},
   "outputs": [
    {
     "data": {
      "text/plain": [
       "0.6123724356957945"
      ]
     },
     "execution_count": 41,
     "metadata": {},
     "output_type": "execute_result"
    }
   ],
   "source": [
    "# Prediction with error\n",
    "y_expected = [3, -0.5, 2, 7]\n",
    "y_predicted = [2.5, 0.0, 2, 8]\n",
    "sqrt(mean_squared_error(y_expected, y_predicted))"
   ]
  },
  {
   "cell_type": "markdown",
   "metadata": {},
   "source": [
    "![Demo](HorizontalRule.png \"Demo\")"
   ]
  },
  {
   "cell_type": "markdown",
   "metadata": {},
   "source": [
    "# <span style=\"color:red\">R Squared</span>\n",
    "\n",
    "Es una metrica que indica que tan bueno es el modelo con respecto a set de datos que se tiene. El valor puede estar entre 0 y 1 o en su defecto puede ser negativo. Un valor de R cuadrado negativo indica que el modelo no es tan bueno en comparacion con el MSE.\n",
    "\n",
    "Las fórmulas generales son: \n",
    "\n",
    "\\begin{equation*}\n",
    "R^2 = 1 - \\frac{MSE (RL)}{MSE (Prom)}\n",
    "\\end{equation*}\n",
    "\n",
    "\\begin{equation*}\n",
    "R^2 = 1 - \\frac{MSE (Model)}{MSE (Baseline)}\n",
    "\\end{equation*}\n",
    "\n",
    "Donde MSE (RL) es el error cuadratico medio con respecto a la regresión lineal y el MSE (Prom) es el error cuadrático medio con respecto a el promedio. \n",
    "\n",
    "## Casos de Uso\n",
    "\n",
    "Extension del metrica MSE\n",
    "\n",
    "## Ventajas\n",
    "\n",
    "- Tiene la ventaja de ser una metrica libre de escala. No importa si los valores son grandes o pequenos, dado que el valor de R\\^2 siempre estara entre menos infinito y 1.  \n",
    "\n",
    "## Desafios\n",
    "\n",
    "- Extension de MSE\n",
    "\n",
    "## Ejemplos\n",
    "\n"
   ]
  },
  {
   "cell_type": "code",
   "execution_count": 34,
   "metadata": {},
   "outputs": [
    {
     "data": {
      "text/plain": [
       "0.9486081370449679"
      ]
     },
     "execution_count": 34,
     "metadata": {},
     "output_type": "execute_result"
    }
   ],
   "source": [
    "from sklearn.metrics import r2_score\n",
    "\n",
    "# El modelo predice algunos valores y otros son muy cercanos. Un R2 cercano a 1.\n",
    "y_true = [3, -0.5, 2, 7]\n",
    "y_pred = [2.5, 0.0, 2, 8]\n",
    "r2_score(y_true, y_pred)  "
   ]
  },
  {
   "cell_type": "code",
   "execution_count": 35,
   "metadata": {},
   "outputs": [
    {
     "data": {
      "text/plain": [
       "0.9382566585956417"
      ]
     },
     "execution_count": 35,
     "metadata": {},
     "output_type": "execute_result"
    }
   ],
   "source": [
    "# El modelo define pesos basados en la varianza de cada dato por separado. Un R2 cercano a 1.\n",
    "y_true = [[0.5, 1], [-1, 1], [7, -6]]\n",
    "y_pred = [[0, 2], [-1, 2], [8, -5]]\n",
    "r2_score(y_true, y_pred,multioutput='variance_weighted') "
   ]
  },
  {
   "cell_type": "code",
   "execution_count": 36,
   "metadata": {},
   "outputs": [
    {
     "data": {
      "text/plain": [
       "1.0"
      ]
     },
     "execution_count": 36,
     "metadata": {},
     "output_type": "execute_result"
    }
   ],
   "source": [
    "# El modelo predice perfectamente el original, por lo tanto el R2 es 1 o cercano.\n",
    "y_true = [1, 2, 3]\n",
    "y_pred = [1, 2, 3]\n",
    "r2_score(y_true, y_pred)"
   ]
  },
  {
   "cell_type": "code",
   "execution_count": 37,
   "metadata": {},
   "outputs": [
    {
     "data": {
      "text/plain": [
       "0.0"
      ]
     },
     "execution_count": 37,
     "metadata": {},
     "output_type": "execute_result"
    }
   ],
   "source": [
    "# El modelo predice algunos elementos y otros no. Por tanto el R2 es 0 o cercano. \n",
    "y_true = [1, 2, 3]\n",
    "y_pred = [2, 2, 2]\n",
    "r2_score(y_true, y_pred)"
   ]
  },
  {
   "cell_type": "code",
   "execution_count": 38,
   "metadata": {},
   "outputs": [
    {
     "data": {
      "text/plain": [
       "-3.0"
      ]
     },
     "execution_count": 38,
     "metadata": {},
     "output_type": "execute_result"
    }
   ],
   "source": [
    "# El modelo predicho no coincide con el original, esto implica un R2 negativo\n",
    "y_true = [1, 2, 3]\n",
    "y_pred = [3, 2, 1]\n",
    "r2_score(y_true, y_pred)"
   ]
  },
  {
   "cell_type": "markdown",
   "metadata": {},
   "source": [
    "![Demo](HorizontalRule.png \"Demo\")"
   ]
  },
  {
   "cell_type": "markdown",
   "metadata": {},
   "source": [
    "# <span style=\"color:red\">Resumen de Metricas para Regresion</span>\n",
    "\n",
    "<style type=\"text/css\">\n",
    ".tg  {border-collapse:collapse;border-spacing:0;}\n",
    ".tg td{font-family:Arial, sans-serif;font-size:14px;padding:10px 5px;border-style:solid;border-width:1px;overflow:hidden;word-break:normal;border-color:black;}\n",
    ".tg th{font-family:Arial, sans-serif;font-size:14px;font-weight:normal;padding:10px 5px;border-style:solid;border-width:1px;overflow:hidden;word-break:normal;border-color:black;}\n",
    ".tg .tg-0pky{border-color:inherit;text-align:left;vertical-align:top}\n",
    "</style>\n",
    "<table class=\"tg\">\n",
    "  <tr>\n",
    "    <th class=\"tg-0pky\">Metrica</th>\n",
    "    <th class=\"tg-0pky\">Caso de Uso</th>\n",
    "    <th class=\"tg-0pky\">Ventaja</th>\n",
    "    <th class=\"tg-0pky\">Desafio</th>\n",
    "  </tr>\n",
    "  <tr>\n",
    "    <td class=\"tg-0pky\" align=\"right\">Max Error</td>\n",
    "    <td class=\"tg-0pky\" align=\"right\">- Encontrar el error maximo</td>\n",
    "    <td class=\"tg-0pky\" align=\"right\">- Simplicidad</td>\n",
    "    <td class=\"tg-0pky\" align=\"right\"></td>\n",
    "  </tr>\n",
    "  <tr>\n",
    "    <td class=\"tg-0pky\" align=\"right\">MAE</td>\n",
    "    <td class=\"tg-0pky\" align=\"right\">- Problemas de Regresion<br>- Escala lineal<br>- Si existen outliers que no son importantes</td>\n",
    "    <td class=\"tg-0pky\" align=\"right\">- Todos los errores mantienen su diferencia lineal, es decir no existe escalamiento como en el caso de RSME</td>\n",
    "    <td class=\"tg-0pky\" align=\"right\">- No es tan sensible a outliners, si estos son de interes evitar esta metrica</td>\n",
    "  </tr>\n",
    "  <tr>\n",
    "    <td class=\"tg-0pky\" align=\"right\">MSE</td>\n",
    "    <td class=\"tg-0pky\" align=\"right\">- Problemas de Regresion<br>- Errores son mayores que 1<br>- Existen outliers de interes</td>\n",
    "    <td class=\"tg-0pky\" align=\"right\">- Util si existen valores inesperados de interes</td>\n",
    "    <td class=\"tg-0pky\" align=\"right\">- Sensible a malas predicciones con valores altos (que se elevan al cuadrado)<br>- No es recomendado cuando los datos son ruidosos<br>- Si los erroes son menores que 1, el MSE sera bajo y se puede sobreestimar cuan malo es el modelo</td>\n",
    "  </tr>\n",
    "  <tr>\n",
    "    <td class=\"tg-0pky\" align=\"right\">RMSE</td>\n",
    "    <td class=\"tg-0pky\" align=\"right\">- Problemas de Regresion<br>- Errores son mayores que 1<br>- Existen outliers de interes</td>\n",
    "    <td class=\"tg-0pky\" align=\"right\">- Introduce una raiz cuadrada para mejorar su respuesta antes errores con valores altos, escalandolos</td>\n",
    "    <td class=\"tg-0pky\" align=\"right\">- Mas complejo que utilizar MSE<br>- Si los erroes son menores que 1, el RMSE sera bajo y se puede sobreestimar cuan malo es el modelo</td>\n",
    "  </tr>\n",
    "  <tr>\n",
    "    <td class=\"tg-0pky\" align=\"right\">R Squared</td>\n",
    "    <td class=\"tg-0pky\" align=\"right\">- Cuando se trabaja con MSE<br>- Comparacion de modelos contra modelo base</td>\n",
    "    <td class=\"tg-0pky\" align=\"right\">- Extension de la metrica MSE<br>- Metrica libre de escala, su valor siempre estara entre infinito negativo y 1</td>\n",
    "    <td class=\"tg-0pky\" align=\"right\">- Extension de MSE</td>\n",
    "  </tr>\n",
    "</table>"
   ]
  },
  {
   "cell_type": "code",
   "execution_count": null,
   "metadata": {},
   "outputs": [],
   "source": []
  }
 ],
 "metadata": {
  "kernelspec": {
   "display_name": "Python 3",
   "language": "python",
   "name": "python3"
  },
  "language_info": {
   "codemirror_mode": {
    "name": "ipython",
    "version": 3
   },
   "file_extension": ".py",
   "mimetype": "text/x-python",
   "name": "python",
   "nbconvert_exporter": "python",
   "pygments_lexer": "ipython3",
   "version": "3.7.3"
  }
 },
 "nbformat": 4,
 "nbformat_minor": 2
}
