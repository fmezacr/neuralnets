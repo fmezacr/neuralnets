{
 "cells": [
  {
   "cell_type": "markdown",
   "metadata": {},
   "source": [
    "## Handwritten Number Recognition with TFLearn and MNIST\n",
    "\n",
    "En este notebook, construiremos una red neuronal que reconozca los números manuscritos 0-9.\n",
    "\n",
    "Este tipo de red neuronal se usa en una variedad de aplicaciones del mundo real que incluyen: reconocer números de teléfono, clasificar el correo postal por dirección, entre otros. Para construir la red, usaremos el conjunto de datos MNIST, que consiste en imágenes de números escritos a mano y sus etiquetas correspondientes a los números 0-9.\n",
    "\n",
    "Usaremos TFLearn, una biblioteca de alto nivel construida sobre TensorFlow para construir la red neuronal. Comenzaremos importando todos los módulos que necesitaremos, luego cargaremos los datos y finalmente construiremos la red.\n",
    "\n",
    "Debe tener instlado en el ambiente de trabajo, las librerias necesariias tales como TFLearn, h5py, scipy etc."
   ]
  },
  {
   "cell_type": "code",
   "execution_count": 2,
   "metadata": {
    "collapsed": true
   },
   "outputs": [],
   "source": [
    "# Import Numpy, TensorFlow, TFLearn, and MNIST data\n",
    "import numpy as np\n",
    "import tensorflow as tf\n",
    "import tflearn\n",
    "import tflearn.datasets.mnist as mnist"
   ]
  },
  {
   "cell_type": "markdown",
   "metadata": {
    "collapsed": true
   },
   "source": [
    "# Training and test data\n",
    "\n",
    "El conjunto de datos MNIST ya contiene datos de entrenamiento y de prueba. Hay 55,000 datos de entrenamiento y 10,000 datos de prueba.\n",
    "\n",
    "Cada dato MNIST tiene:\n",
    "\n",
    "- una imagen de un dígito manuscrito y\n",
    "- una etiqueta correspondiente (un número 0-9 que identifica la imagen)\n",
    "\n",
    "Llamaremos a las imágenes, que serán la entrada a nuestra red neuronal, X y sus correspondientes etiquetas Y.\n",
    "\n",
    "Vamos a querer que nuestras etiquetas sean vectores one-hot-encode, que son vectores que contienen mayormente 0 y un 1. Es más fácil ver esto en un ejemplo: Como one-hot-encode, el número 0 se representa como [1, 0, 0, 0, 0, 0, 0, 0, 0, 0] y el 4 se representa como [0, 0, 0, 0, 1, 0, 0, 0, 0, 0].\n",
    "\n",
    "\n",
    "## Aplanamiento de datos (Flattened Data)\n",
    "\n",
    "Para este ejemplo, usaremos datos aplanados o una representación de imágenes MNIST en una dimensión en lugar de dos. Por lo tanto, cada imagen de número manuscrita, que es de 28x28 píxeles, se representará como una matriz unidimensional de valores de 784 píxeles.\n",
    "\n",
    "Al aplanar los datos, se desecha la información sobre la estructura 2D de la imagen, pero simplifica nuestros datos para que los correspondientes a entrenamiento puedan estar contenidos en una matriz cuya forma es [55000, 784]; la primera dimensión es el número de imágenes de entrenamiento y la segunda dimensión es el número de píxeles en cada imagen. Este es el tipo de datos que es más fácil de analizar utilizando una red neuronal simple.\n"
   ]
  },
  {
   "cell_type": "code",
   "execution_count": 3,
   "metadata": {},
   "outputs": [
    {
     "name": "stdout",
     "output_type": "stream",
     "text": [
      "Extracting mnist/train-images-idx3-ubyte.gz\n",
      "Extracting mnist/train-labels-idx1-ubyte.gz\n",
      "Extracting mnist/t10k-images-idx3-ubyte.gz\n",
      "Extracting mnist/t10k-labels-idx1-ubyte.gz\n"
     ]
    }
   ],
   "source": [
    "# Retrieve the training and test data\n",
    "trainX, trainY, testX, testY = mnist.load_data(one_hot=True)"
   ]
  },
  {
   "cell_type": "markdown",
   "metadata": {},
   "source": [
    "## Visualize the training data\n",
    "\n",
    "A continuación se proporciona una función que ayudará a visualizar los datos del MNIST. Al pasar el índice de un ejemplo de entrenamiento, la función show_digit mostrará esa imagen de entrenamiento junto con su etiqueta correspondiente en el título.\n"
   ]
  },
  {
   "cell_type": "code",
   "execution_count": 4,
   "metadata": {},
   "outputs": [
    {
     "name": "stdout",
     "output_type": "stream",
     "text": [
      "[ 0.  0.  0.  0.  0.  0.  0.  1.  0.  0.]\n"
     ]
    },
    {
     "data": {
      "image/png": "[encoded data removed]",
      "text/plain": [
       "<Figure size 432x288 with 1 Axes>"
      ]
     },
     "metadata": {},
     "output_type": "display_data"
    }
   ],
   "source": [
    "# Visualizing the data\n",
    "import matplotlib.pyplot as plt\n",
    "%matplotlib inline\n",
    "\n",
    "# Function for displaying a training image by it's index in the MNIST set\n",
    "def show_digit(index):\n",
    "    label = trainY[index].argmax(axis=0)\n",
    "    # Reshape 784 array into 28x28 image\n",
    "    image = trainX[index].reshape([28,28])\n",
    "    plt.title('Training data, index: %d,  Label: %d' % (index, label))\n",
    "    plt.imshow(image, cmap='gray_r')\n",
    "    plt.show()\n",
    "    \n",
    "# Display the first (index 0) training image\n",
    "print(trainY[0])\n",
    "show_digit(0)"
   ]
  },
  {
   "cell_type": "markdown",
   "metadata": {
    "collapsed": true
   },
   "source": [
    "## Building the network\n",
    "\n",
    "TFLearn permite construir la red neuronal definiendo las capas.\n",
    "\n",
    "Para este ejemplo, se debe definir:\n",
    "\n",
    "   - La capa de entrada, que le dice a la red el número de entradas que debe esperar para cada parte de los datos de MNIST.\n",
    "   - Las capas ocultas, que reconocen patrones en los datos y conectan la entrada a la capa de salida, y\n",
    "   - La capa de salida, que define cómo la red aprende y genera una etiqueta para una imagen dada.\n",
    "\n",
    "Vamos para empezar la capa de entrada; para definir la capa de entrada, definirá el tipo de datos que la red espera. Por ejemplo,\n",
    "\n",
    "    net = tflearn.input_data([None, 100])\n",
    "\n",
    "Crearía una red con 100 entradas. El número de entradas a su red debe coincidir con el tamaño de los datos. Para este ejemplo, estamos utilizando vectores largos de 784 elementos para codificar nuestros datos de entrada, por lo que necesitamos 784 unidades de entrada."
   ]
  },
  {
   "cell_type": "markdown",
   "metadata": {},
   "source": [
    "## Adding layers\n",
    "\n",
    "Para agregar nuevas capas ocultas, se usa:\n",
    "\n",
    "    net = tflearn.fully_connected (net, n_units, activación = 'ReLU')\n",
    "\n",
    "Esto agrega una capa totalmente conectada, donde cada unidad (o nodo) en la capa anterior está conectada a cada unidad en esta capa. El primer argumento net es la red que creó en la llamada tflearn.input_data, que designa la entrada a la capa oculta. Puede establecer el número de unidades en la capa con n_units y configurar la función de activación con la palabra clave de activación. Puede seguir agregando capas a su red llamando repetidamente a tflearn.fully_connected (net, n_units).\n",
    "\n",
    "Luego, para configurar el entrenamiento de la red, se usa:\n",
    "\n",
    "    net = tflearn.regression (net, optimizer = 'sgd', learning_rate = 0.1, loss = 'categorical_crossentropy')\n",
    "\n",
    "Las palabras clave:\n",
    "\n",
    "- *optimizer* establece el método de entrenamiento, por ejemplo el descenso de gradiente estocástico (SGD)\n",
    "- *learning_rate* es la tasa de aprendizaje.\n",
    "- *loss* determina cómo se calcula el error en la red. En este ejemplo, con 'categorical_crossentropy'.\n",
    "\n",
    "Finalmente, se coloca todo junto para crear el modelo con tflearn.DNN (net)\n",
    "\n",
    "La función build_model( ), armará la red utilizando TFLearn. Se puede elegir cuántas capas utilizar, cuántas unidades ocultas, etc.\n",
    "\n",
    "La capa de salida final debe tener 10 nodos de salida (uno para cada dígito 0-9). e recomienda usar una capa de activación de softmax como la capa de salida final.\n"
   ]
  },
  {
   "cell_type": "code",
   "execution_count": 5,
   "metadata": {
    "collapsed": true
   },
   "outputs": [],
   "source": [
    "# Define the neural network\n",
    "def build_model():\n",
    "    # This resets all parameters and variables, leave this here\n",
    "    tf.reset_default_graph()\n",
    "    \n",
    "    # Include the input layer, hidden layer(s), and set how you want to train the model\n",
    "    #Inputs\n",
    "    net = tflearn.input_data([None, 784])\n",
    "    \n",
    "    #Hidden layers\n",
    "    net = tflearn.fully_connected(net, 100, activation = 'ReLU')\n",
    "    \n",
    "    #Output\n",
    "    net = tflearn.fully_connected(net, 10, activation = 'softmax')\n",
    "    \n",
    "    net = tflearn.regression(net, optimizer='sgd', learning_rate=0.1, loss='categorical_crossentropy')\n",
    "    \n",
    "    # This model assumes that your network is named \"net\"    \n",
    "    model = tflearn.DNN(net)\n",
    "    return model"
   ]
  },
  {
   "cell_type": "code",
   "execution_count": 6,
   "metadata": {
    "collapsed": true
   },
   "outputs": [],
   "source": [
    "# Build the model\n",
    "model = build_model()"
   ]
  },
  {
   "cell_type": "markdown",
   "metadata": {},
   "source": [
    "## Training the network\n",
    "\n",
    "Ahora que hemos construido la red y guardado como modelo, podemos ajustarla a los datos. Aquí usamos el método model.fit. Se pasan los datos de entrada entrenamiento trainX y los datos de salida entrenamiento trainY. \n",
    "\n",
    "A continuación, se establece validation_set = 0.1, que reserva el 10% del conjunto de datos como el conjunto de validación. También puede establecer el tamaño del batch y el número de epochz con las palabras clave batch_size y n_epoch, respectivamente.\n",
    "\n",
    "Muy pocos epochs no entrenan eficazmente su red, y demasiadas tardan mucho tiempo en ejecutarse. ¡Elegir sabiamente!\n"
   ]
  },
  {
   "cell_type": "code",
   "execution_count": 7,
   "metadata": {},
   "outputs": [
    {
     "name": "stdout",
     "output_type": "stream",
     "text": [
      "Training Step: 9899  | total loss: \u001b[1m\u001b[32m0.39582\u001b[0m\u001b[0m | time: 1.674s\n",
      "| SGD | epoch: 020 | loss: 0.39582 - acc: 0.9610 -- iter: 49400/49500\n",
      "Training Step: 9900  | total loss: \u001b[1m\u001b[32m0.36857\u001b[0m\u001b[0m | time: 2.690s\n",
      "| SGD | epoch: 020 | loss: 0.36857 - acc: 0.9609 | val_loss: 0.10394 - val_acc: 0.9711 -- iter: 49500/49500\n",
      "--\n"
     ]
    }
   ],
   "source": [
    "# Training\n",
    "model.fit(trainX, trainY, validation_set=0.1, show_metric=True, batch_size=100, n_epoch=20)"
   ]
  },
  {
   "cell_type": "markdown",
   "metadata": {},
   "source": [
    "## Testing\n",
    "\n",
    "Una vez que haya alcanzado un buen rendimiento en el punto anterior, puede ejecutar la red con el conjunto de datos de prueba para medir su rendimiento. Recuerde, solo haga esto después de haber realizado el entrenamiento y esté satisfecho con los resultados.\n",
    "\n",
    "Un buen resultado será más del 95% de precisión. ¡Se sabe que algunos modelos simples que tienen una precisión de hasta el 99.7%!\n",
    "\n",
    "Se recomienda \"jugar\" con los hyper-parámetros.\n"
   ]
  },
  {
   "cell_type": "code",
   "execution_count": 8,
   "metadata": {},
   "outputs": [
    {
     "name": "stdout",
     "output_type": "stream",
     "text": [
      "Test accuracy:  0.9748\n"
     ]
    }
   ],
   "source": [
    "# Compare the labels that our model predicts with the actual labels\n",
    "\n",
    "# Find the indices of the most confident prediction for each item. That tells us the predicted digit for that sample.\n",
    "predictions = np.array(model.predict(testX)).argmax(axis=1)\n",
    "\n",
    "# Calculate the accuracy, which is the percentage of times the predicated labels matched the actual labels\n",
    "actual = testY.argmax(axis=1)\n",
    "test_accuracy = np.mean(predictions == actual, axis=0)\n",
    "\n",
    "# Print out the result\n",
    "print(\"Test accuracy: \", test_accuracy)"
   ]
  }
 ],
 "metadata": {
  "kernelspec": {
   "display_name": "Python 3",
   "language": "python",
   "name": "python3"
  },
  "language_info": {
   "codemirror_mode": {
    "name": "ipython",
    "version": 3
   },
   "file_extension": ".py",
   "mimetype": "text/x-python",
   "name": "python",
   "nbconvert_exporter": "python",
   "pygments_lexer": "ipython3",
   "version": "3.6.1"
  }
 },
 "nbformat": 4,
 "nbformat_minor": 2
}
